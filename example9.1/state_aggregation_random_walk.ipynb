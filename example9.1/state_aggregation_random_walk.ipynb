{
 "cells": [
  {
   "cell_type": "code",
   "execution_count": 1,
   "metadata": {},
   "outputs": [],
   "source": [
    "import numpy as np\n",
    "import numpy.random as npr\n",
    "import matplotlib.pyplot as pt"
   ]
  },
  {
   "cell_type": "code",
   "execution_count": 14,
   "metadata": {},
   "outputs": [],
   "source": [
    "def generate_one_episode(center, max_move, p_r=0.5):\n",
    "    left = 0\n",
    "    right = 2*center\n",
    "    state = center\n",
    "    episode = []\n",
    "    while (state>left) and (state<right):\n",
    "        if npr.uniform()<=p_r:\n",
    "            next_state = min(state+npr.choice(max_move), right)\n",
    "        else:\n",
    "            next_state = max(state-npr.choice(max_move), left)\n",
    "        if next_state==right:\n",
    "            reward = 1\n",
    "        elif next_state==left:\n",
    "            reward = -1\n",
    "        else:\n",
    "            reward = 0\n",
    "        episode.append((state, reward))\n",
    "        state = next_state\n",
    "    return episode"
   ]
  },
  {
   "cell_type": "code",
   "execution_count": 17,
   "metadata": {},
   "outputs": [
    {
     "name": "stdout",
     "output_type": "stream",
     "text": [
      "[(500, 0), (571, 0), (658, 0), (622, 0), (580, 0), (672, 0), (708, 0), (776, 0), (772, 0), (762, 0), (700, 0), (657, 0), (587, 0), (640, 0), (716, 0), (728, 0), (660, 0), (728, 0), (807, 0), (852, 0), (870, 0), (957, 1)]\n"
     ]
    }
   ],
   "source": [
    "episode = generate_one_episode(500, 100)\n",
    "\n",
    "print(episode)"
   ]
  },
  {
   "cell_type": "code",
   "execution_count": null,
   "metadata": {},
   "outputs": [],
   "source": []
  }
 ],
 "metadata": {
  "kernelspec": {
   "display_name": "Python 3",
   "language": "python",
   "name": "python3"
  },
  "language_info": {
   "codemirror_mode": {
    "name": "ipython",
    "version": 3
   },
   "file_extension": ".py",
   "mimetype": "text/x-python",
   "name": "python",
   "nbconvert_exporter": "python",
   "pygments_lexer": "ipython3",
   "version": "3.6.8"
  }
 },
 "nbformat": 4,
 "nbformat_minor": 2
}

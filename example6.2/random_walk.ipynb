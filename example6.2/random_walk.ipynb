{
 "cells": [
  {
   "cell_type": "code",
   "execution_count": 2,
   "metadata": {},
   "outputs": [],
   "source": [
    "import numpy as np\n",
    "import numpy.random as npr"
   ]
  },
  {
   "cell_type": "code",
   "execution_count": 3,
   "metadata": {},
   "outputs": [],
   "source": [
    "def generate_one_episode(center, p_r=0.5):\n",
    "    left = 0\n",
    "    right = 2*center\n",
    "    current = center\n",
    "    episode = [current]\n",
    "    while (current>left) and (current<right):\n",
    "        current = current+1 if npr.uniform()<=p_r else current-1\n",
    "        episode.append(current)\n",
    "    return episode"
   ]
  },
  {
   "cell_type": "code",
   "execution_count": 4,
   "metadata": {},
   "outputs": [],
   "source": [
    "def monte_carlo_first_visit_prediction(n_episode, center, gamma=1, p_r=0.5):\n",
    "    returns = np.zeros(center*2+1)\n",
    "    returns[0] = 0\n",
    "    returns[-1] = 1\n",
    "    counts = np.zeros(center*2+1)\n",
    "    counts[0] = 1\n",
    "    counts[-1] = 1\n",
    "    for _ in range(n_episode):\n",
    "        episode = generate_one_episode(center, p_r)[::-1]\n",
    "        G = 0 if episode[0]==0 else 1\n",
    "        episode = episode[1:]\n",
    "        for i, s in enumerate(episode):\n",
    "            G = gamma*G\n",
    "            if s not in episode[i+1:]:\n",
    "                returns[s] += G\n",
    "                counts[s] += 1\n",
    "    value = returns/counts\n",
    "    \n",
    "    return value"
   ]
  },
  {
   "cell_type": "code",
   "execution_count": 5,
   "metadata": {},
   "outputs": [],
   "source": [
    "def temporal_difference_prediction(n_episode, center, gamma=1, alpha=0.1, p_r=0.5):\n",
    "    value = np.zeros(center*2+1)\n",
    "    value[0] = 0\n",
    "    value[-1] = 1\n",
    "    for _ in range(n_episode):\n",
    "        episode = generate_one_episode(center, p_r)\n",
    "        for i in range(len(episode)-1):\n",
    "            value[episode[i]] += alpha*(gamma*value[episode[i+1]]-value[episode[i]])\n",
    "    return value"
   ]
  },
  {
   "cell_type": "code",
   "execution_count": 6,
   "metadata": {},
   "outputs": [],
   "source": [
    "def constant_alpha_monte_carlo_first_visit_prediction(n_episode, center, alpha=0.1, gamma=1, p_r=0.5):\n",
    "    value = np.zeros(center*2+1)\n",
    "    value[0] = 0\n",
    "    value[-1] = 1\n",
    "    for _ in range(n_episode):\n",
    "        episode = generate_one_episode(center, p_r)[::-1]\n",
    "        G = 0 if episode[0]==0 else 1\n",
    "        episode = episode[1:]\n",
    "        for i, s in enumerate(episode):\n",
    "            G = gamma*G\n",
    "            if s not in episode[i+1:]:\n",
    "                value[s] = value[s]+alpha*(G-value[s])\n",
    "    \n",
    "    return value"
   ]
  },
  {
   "cell_type": "code",
   "execution_count": 7,
   "metadata": {},
   "outputs": [
    {
     "name": "stdout",
     "output_type": "stream",
     "text": [
      "0 0.0 0.0\n",
      "1 0.16694242223692918 0.16666666666666666\n",
      "2 0.3320509418944017 0.3333333333333333\n",
      "3 0.4965 0.5\n",
      "4 0.665817352822851 0.6666666666666666\n",
      "5 0.8338931810547531 0.8333333333333334\n",
      "6 1.0 1.0\n"
     ]
    }
   ],
   "source": [
    "value = monte_carlo_first_visit_prediction(10000, 3)\n",
    "\n",
    "for i in range(len(value)):\n",
    "    print(i, value[i], i/(len(value)-1))"
   ]
  },
  {
   "cell_type": "code",
   "execution_count": 12,
   "metadata": {},
   "outputs": [
    {
     "name": "stdout",
     "output_type": "stream",
     "text": [
      "0 0.0 0.0\n",
      "1 0.13375324969552915 0.16666666666666666\n",
      "2 0.3076547211926426 0.3333333333333333\n",
      "3 0.4909808796317162 0.5\n",
      "4 0.757896108560048 0.6666666666666666\n",
      "5 0.8928348472863182 0.8333333333333334\n",
      "6 1.0 1.0\n"
     ]
    }
   ],
   "source": [
    "value = temporal_difference_prediction(10000, 3, alpha=0.1)\n",
    "\n",
    "for i in range(len(value)):\n",
    "    print(i, value[i], i/(len(value)-1))"
   ]
  },
  {
   "cell_type": "code",
   "execution_count": 13,
   "metadata": {},
   "outputs": [
    {
     "name": "stdout",
     "output_type": "stream",
     "text": [
      "0 0.0 0.0\n",
      "1 0.11798433856992142 0.16666666666666666\n",
      "2 0.17851463175929094 0.3333333333333333\n",
      "3 0.44023338075828733 0.5\n",
      "4 0.5705126696555782 0.6666666666666666\n",
      "5 0.7232702504457377 0.8333333333333334\n",
      "6 1.0 1.0\n"
     ]
    }
   ],
   "source": [
    "value = constant_alpha_monte_carlo_first_visit_prediction(10000, 3, alpha=0.1)\n",
    "\n",
    "for i in range(len(value)):\n",
    "    print(i, value[i], i/(len(value)-1))"
   ]
  }
 ],
 "metadata": {
  "kernelspec": {
   "display_name": "Python 3",
   "language": "python",
   "name": "python3"
  },
  "language_info": {
   "codemirror_mode": {
    "name": "ipython",
    "version": 3
   },
   "file_extension": ".py",
   "mimetype": "text/x-python",
   "name": "python",
   "nbconvert_exporter": "python",
   "pygments_lexer": "ipython3",
   "version": "3.6.8"
  }
 },
 "nbformat": 4,
 "nbformat_minor": 2
}
